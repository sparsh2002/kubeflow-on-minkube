{
 "cells": [
  {
   "cell_type": "code",
   "execution_count": 17,
   "metadata": {},
   "outputs": [
    {
     "name": "stdout",
     "output_type": "stream",
     "text": [
      "Collecting kfp==1.8\n",
      "  Downloading kfp-1.8.0.tar.gz (243 kB)\n",
      "\u001b[2K     \u001b[90m━━━━━━━━━━━━━━━━━━━━━━━━━━━━━━━━━━━━━━━\u001b[0m \u001b[32m243.5/243.5 KB\u001b[0m \u001b[31m2.2 MB/s\u001b[0m eta \u001b[36m0:00:00\u001b[0ma \u001b[36m0:00:01\u001b[0m\n",
      "\u001b[?25h  Preparing metadata (setup.py) ... \u001b[?25ldone\n",
      "\u001b[?25hCollecting absl-py<=0.11,>=0.9\n",
      "  Downloading absl_py-0.11.0-py3-none-any.whl (127 kB)\n",
      "\u001b[2K     \u001b[90m━━━━━━━━━━━━━━━━━━━━━━━━━━━━━━━━━━━━━━━\u001b[0m \u001b[32m127.8/127.8 KB\u001b[0m \u001b[31m3.6 MB/s\u001b[0m eta \u001b[36m0:00:00\u001b[0m\n",
      "\u001b[?25hCollecting PyYAML<6,>=5.3\n",
      "  Downloading PyYAML-5.4.1-cp39-cp39-macosx_10_9_x86_64.whl (259 kB)\n",
      "\u001b[2K     \u001b[90m━━━━━━━━━━━━━━━━━━━━━━━━━━━━━━━━━━━━━━━\u001b[0m \u001b[32m259.3/259.3 KB\u001b[0m \u001b[31m4.8 MB/s\u001b[0m eta \u001b[36m0:00:00\u001b[0m00:01\u001b[0m\n",
      "\u001b[?25hCollecting google-cloud-storage<2,>=1.20.0\n",
      "  Downloading google_cloud_storage-1.44.0-py2.py3-none-any.whl (106 kB)\n",
      "\u001b[2K     \u001b[90m━━━━━━━━━━━━━━━━━━━━━━━━━━━━━━━━━━━━━━━\u001b[0m \u001b[32m106.8/106.8 KB\u001b[0m \u001b[31m3.2 MB/s\u001b[0m eta \u001b[36m0:00:00\u001b[0m\n",
      "\u001b[?25hCollecting kubernetes<13,>=8.0.0\n",
      "  Downloading kubernetes-12.0.1-py2.py3-none-any.whl (1.7 MB)\n",
      "\u001b[2K     \u001b[90m━━━━━━━━━━━━━━━━━━━━━━━━━━━━━━━━━━━━━━━━\u001b[0m \u001b[32m1.7/1.7 MB\u001b[0m \u001b[31m6.0 MB/s\u001b[0m eta \u001b[36m0:00:00\u001b[0m00:01\u001b[0m00:01\u001b[0m\n",
      "\u001b[?25hCollecting google-api-python-client<2,>=1.7.8\n",
      "  Downloading google_api_python_client-1.12.11-py2.py3-none-any.whl (62 kB)\n",
      "\u001b[2K     \u001b[90m━━━━━━━━━━━━━━━━━━━━━━━━━━━━━━━━━━━━━━━━\u001b[0m \u001b[32m62.1/62.1 KB\u001b[0m \u001b[31m1.9 MB/s\u001b[0m eta \u001b[36m0:00:00\u001b[0m\n",
      "\u001b[?25hCollecting google-auth<2,>=1.6.1\n",
      "  Downloading google_auth-1.35.0-py2.py3-none-any.whl (152 kB)\n",
      "\u001b[2K     \u001b[90m━━━━━━━━━━━━━━━━━━━━━━━━━━━━━━━━━━━━━━━\u001b[0m \u001b[32m152.9/152.9 KB\u001b[0m \u001b[31m1.7 MB/s\u001b[0m eta \u001b[36m0:00:00\u001b[0ma \u001b[36m0:00:01\u001b[0m\n",
      "\u001b[?25hRequirement already satisfied: requests-toolbelt<1,>=0.8.0 in ./aiplanet/lib/python3.9/site-packages (from kfp==1.8) (0.10.1)\n",
      "Collecting cloudpickle<2,>=1.3.0\n",
      "  Downloading cloudpickle-1.6.0-py3-none-any.whl (23 kB)\n",
      "Collecting kfp-server-api<2.0.0,>=1.1.2\n",
      "  Downloading kfp-server-api-1.8.5.tar.gz (58 kB)\n",
      "\u001b[2K     \u001b[90m━━━━━━━━━━━━━━━━━━━━━━━━━━━━━━━━━━━━━━━━\u001b[0m \u001b[32m58.1/58.1 KB\u001b[0m \u001b[31m1.9 MB/s\u001b[0m eta \u001b[36m0:00:00\u001b[0m\n",
      "\u001b[?25h  Preparing metadata (setup.py) ... \u001b[?25ldone\n",
      "\u001b[?25hCollecting jsonschema<4,>=3.0.1\n",
      "  Downloading jsonschema-3.2.0-py2.py3-none-any.whl (56 kB)\n",
      "\u001b[2K     \u001b[90m━━━━━━━━━━━━━━━━━━━━━━━━━━━━━━━━━━━━━━━━\u001b[0m \u001b[32m56.3/56.3 KB\u001b[0m \u001b[31m1.8 MB/s\u001b[0m eta \u001b[36m0:00:00\u001b[0m\n",
      "\u001b[?25hRequirement already satisfied: tabulate<1,>=0.8.6 in ./aiplanet/lib/python3.9/site-packages (from kfp==1.8) (0.9.0)\n",
      "Collecting click<8,>=7.1.1\n",
      "  Downloading click-7.1.2-py2.py3-none-any.whl (82 kB)\n",
      "\u001b[2K     \u001b[90m━━━━━━━━━━━━━━━━━━━━━━━━━━━━━━━━━━━━━━━━\u001b[0m \u001b[32m82.8/82.8 KB\u001b[0m \u001b[31m2.4 MB/s\u001b[0m eta \u001b[36m0:00:00\u001b[0m\n",
      "\u001b[?25hCollecting Deprecated<2,>=1.2.7\n",
      "  Downloading Deprecated-1.2.14-py2.py3-none-any.whl (9.6 kB)\n",
      "Collecting strip-hints<1,>=0.1.8\n",
      "  Downloading strip-hints-0.1.10.tar.gz (29 kB)\n",
      "  Preparing metadata (setup.py) ... \u001b[?25ldone\n",
      "\u001b[?25hRequirement already satisfied: docstring-parser<1,>=0.7.3 in ./aiplanet/lib/python3.9/site-packages (from kfp==1.8) (0.15)\n",
      "Collecting kfp-pipeline-spec<0.2.0,>=0.1.9\n",
      "  Downloading kfp_pipeline_spec-0.1.16-py3-none-any.whl (19 kB)\n",
      "Collecting fire<1,>=0.3.1\n",
      "  Downloading fire-0.5.0.tar.gz (88 kB)\n",
      "\u001b[2K     \u001b[90m━━━━━━━━━━━━━━━━━━━━━━━━━━━━━━━━━━━━━━━━\u001b[0m \u001b[32m88.3/88.3 KB\u001b[0m \u001b[31m3.2 MB/s\u001b[0m eta \u001b[36m0:00:00\u001b[0m\n",
      "\u001b[?25h  Preparing metadata (setup.py) ... \u001b[?25ldone\n",
      "\u001b[?25hRequirement already satisfied: protobuf<4,>=3.13.0 in ./aiplanet/lib/python3.9/site-packages (from kfp==1.8) (3.20.3)\n",
      "Collecting pydantic<2,>=1.8.2\n",
      "  Downloading pydantic-1.10.11-cp39-cp39-macosx_10_9_x86_64.whl (2.9 MB)\n",
      "\u001b[2K     \u001b[90m━━━━━━━━━━━━━━━━━━━━━━━━━━━━━━━━━━━━━━━━\u001b[0m \u001b[32m2.9/2.9 MB\u001b[0m \u001b[31m6.8 MB/s\u001b[0m eta \u001b[36m0:00:00\u001b[0m00:01\u001b[0m00:01\u001b[0m\n",
      "\u001b[?25hRequirement already satisfied: six in ./aiplanet/lib/python3.9/site-packages (from absl-py<=0.11,>=0.9->kfp==1.8) (1.16.0)\n",
      "Collecting wrapt<2,>=1.10\n",
      "  Using cached wrapt-1.15.0-cp39-cp39-macosx_10_9_x86_64.whl (35 kB)\n",
      "Collecting termcolor\n",
      "  Downloading termcolor-2.3.0-py3-none-any.whl (6.9 kB)\n",
      "Collecting google-auth-httplib2>=0.0.3\n",
      "  Downloading google_auth_httplib2-0.1.0-py2.py3-none-any.whl (9.3 kB)\n",
      "Collecting uritemplate<4dev,>=3.0.0\n",
      "  Downloading uritemplate-3.0.1-py2.py3-none-any.whl (15 kB)\n",
      "Requirement already satisfied: google-api-core<3dev,>=1.21.0 in ./aiplanet/lib/python3.9/site-packages (from google-api-python-client<2,>=1.7.8->kfp==1.8) (2.11.1)\n",
      "Collecting httplib2<1dev,>=0.15.0\n",
      "  Downloading httplib2-0.22.0-py3-none-any.whl (96 kB)\n",
      "\u001b[2K     \u001b[90m━━━━━━━━━━━━━━━━━━━━━━━━━━━━━━━━━━━━━━━━\u001b[0m \u001b[32m96.9/96.9 KB\u001b[0m \u001b[31m2.7 MB/s\u001b[0m eta \u001b[36m0:00:00\u001b[0m\n",
      "\u001b[?25hRequirement already satisfied: setuptools>=40.3.0 in ./aiplanet/lib/python3.9/site-packages (from google-auth<2,>=1.6.1->kfp==1.8) (58.1.0)\n",
      "Requirement already satisfied: pyasn1-modules>=0.2.1 in ./aiplanet/lib/python3.9/site-packages (from google-auth<2,>=1.6.1->kfp==1.8) (0.3.0)\n",
      "Collecting cachetools<5.0,>=2.0.0\n",
      "  Downloading cachetools-4.2.4-py3-none-any.whl (10 kB)\n",
      "Requirement already satisfied: rsa<5,>=3.1.4 in ./aiplanet/lib/python3.9/site-packages (from google-auth<2,>=1.6.1->kfp==1.8) (4.9)\n",
      "Requirement already satisfied: requests<3.0.0dev,>=2.18.0 in ./aiplanet/lib/python3.9/site-packages (from google-cloud-storage<2,>=1.20.0->kfp==1.8) (2.31.0)\n",
      "Requirement already satisfied: google-resumable-media<3.0dev,>=1.3.0 in ./aiplanet/lib/python3.9/site-packages (from google-cloud-storage<2,>=1.20.0->kfp==1.8) (2.5.0)\n",
      "Requirement already satisfied: google-cloud-core<3.0dev,>=1.6.0 in ./aiplanet/lib/python3.9/site-packages (from google-cloud-storage<2,>=1.20.0->kfp==1.8) (2.3.3)\n",
      "Collecting attrs>=17.4.0\n",
      "  Downloading attrs-23.1.0-py3-none-any.whl (61 kB)\n",
      "\u001b[2K     \u001b[90m━━━━━━━━━━━━━━━━━━━━━━━━━━━━━━━━━━━━━━━━\u001b[0m \u001b[32m61.2/61.2 KB\u001b[0m \u001b[31m2.2 MB/s\u001b[0m eta \u001b[36m0:00:00\u001b[0m\n",
      "\u001b[?25hCollecting pyrsistent>=0.14.0\n",
      "  Downloading pyrsistent-0.19.3-cp39-cp39-macosx_10_9_universal2.whl (82 kB)\n",
      "\u001b[2K     \u001b[90m━━━━━━━━━━━━━━━━━━━━━━━━━━━━━━━━━━━━━━━━\u001b[0m \u001b[32m82.5/82.5 KB\u001b[0m \u001b[31m1.8 MB/s\u001b[0m eta \u001b[36m0:00:00\u001b[0m00:01\u001b[0m\n",
      "\u001b[?25hRequirement already satisfied: urllib3>=1.15 in ./aiplanet/lib/python3.9/site-packages (from kfp-server-api<2.0.0,>=1.1.2->kfp==1.8) (1.26.16)\n",
      "Requirement already satisfied: certifi in ./aiplanet/lib/python3.9/site-packages (from kfp-server-api<2.0.0,>=1.1.2->kfp==1.8) (2023.5.7)\n",
      "Requirement already satisfied: python-dateutil in ./aiplanet/lib/python3.9/site-packages (from kfp-server-api<2.0.0,>=1.1.2->kfp==1.8) (2.8.2)\n",
      "Requirement already satisfied: websocket-client!=0.40.0,!=0.41.*,!=0.42.*,>=0.32.0 in ./aiplanet/lib/python3.9/site-packages (from kubernetes<13,>=8.0.0->kfp==1.8) (1.6.1)\n",
      "Requirement already satisfied: requests-oauthlib in ./aiplanet/lib/python3.9/site-packages (from kubernetes<13,>=8.0.0->kfp==1.8) (1.3.1)\n",
      "Requirement already satisfied: typing-extensions>=4.2.0 in ./aiplanet/lib/python3.9/site-packages (from pydantic<2,>=1.8.2->kfp==1.8) (4.7.1)\n",
      "Collecting wheel\n",
      "  Using cached wheel-0.40.0-py3-none-any.whl (64 kB)\n",
      "Requirement already satisfied: googleapis-common-protos<2.0.dev0,>=1.56.2 in ./aiplanet/lib/python3.9/site-packages (from google-api-core<3dev,>=1.21.0->google-api-python-client<2,>=1.7.8->kfp==1.8) (1.59.1)\n",
      "Collecting google-api-core<3dev,>=1.21.0\n",
      "  Using cached google_api_core-2.11.0-py3-none-any.whl (120 kB)\n",
      "  Downloading google_api_core-2.10.2-py3-none-any.whl (115 kB)\n",
      "\u001b[2K     \u001b[90m━━━━━━━━━━━━━━━━━━━━━━━━━━━━━━━━━━━━━━━\u001b[0m \u001b[32m115.6/115.6 KB\u001b[0m \u001b[31m2.2 MB/s\u001b[0m eta \u001b[36m0:00:00\u001b[0m00:01\u001b[0m\n",
      "\u001b[?25hRequirement already satisfied: google-crc32c<2.0dev,>=1.0 in ./aiplanet/lib/python3.9/site-packages (from google-resumable-media<3.0dev,>=1.3.0->google-cloud-storage<2,>=1.20.0->kfp==1.8) (1.5.0)\n",
      "Collecting pyparsing!=3.0.0,!=3.0.1,!=3.0.2,!=3.0.3,<4,>=2.4.2\n",
      "  Downloading pyparsing-3.1.0-py3-none-any.whl (102 kB)\n",
      "\u001b[2K     \u001b[90m━━━━━━━━━━━━━━━━━━━━━━━━━━━━━━━━━━━━━━━\u001b[0m \u001b[32m102.6/102.6 KB\u001b[0m \u001b[31m2.3 MB/s\u001b[0m eta \u001b[36m0:00:00\u001b[0m00:01\u001b[0m\n",
      "\u001b[?25hRequirement already satisfied: pyasn1<0.6.0,>=0.4.6 in ./aiplanet/lib/python3.9/site-packages (from pyasn1-modules>=0.2.1->google-auth<2,>=1.6.1->kfp==1.8) (0.5.0)\n",
      "Requirement already satisfied: idna<4,>=2.5 in ./aiplanet/lib/python3.9/site-packages (from requests<3.0.0dev,>=2.18.0->google-cloud-storage<2,>=1.20.0->kfp==1.8) (3.4)\n",
      "Requirement already satisfied: charset-normalizer<4,>=2 in ./aiplanet/lib/python3.9/site-packages (from requests<3.0.0dev,>=2.18.0->google-cloud-storage<2,>=1.20.0->kfp==1.8) (3.2.0)\n",
      "Requirement already satisfied: oauthlib>=3.0.0 in ./aiplanet/lib/python3.9/site-packages (from requests-oauthlib->kubernetes<13,>=8.0.0->kfp==1.8) (3.2.2)\n",
      "Using legacy 'setup.py install' for kfp, since package 'wheel' is not installed.\n",
      "Using legacy 'setup.py install' for fire, since package 'wheel' is not installed.\n",
      "Using legacy 'setup.py install' for kfp-server-api, since package 'wheel' is not installed.\n",
      "Using legacy 'setup.py install' for strip-hints, since package 'wheel' is not installed.\n",
      "Installing collected packages: wrapt, wheel, uritemplate, termcolor, PyYAML, pyrsistent, pyparsing, pydantic, kfp-pipeline-spec, cloudpickle, click, cachetools, attrs, absl-py, strip-hints, kfp-server-api, jsonschema, httplib2, google-auth, fire, Deprecated, kubernetes, google-auth-httplib2, google-api-core, google-api-python-client, google-cloud-storage, kfp\n",
      "  Attempting uninstall: PyYAML\n",
      "    Found existing installation: PyYAML 6.0\n",
      "    Uninstalling PyYAML-6.0:\n",
      "      Successfully uninstalled PyYAML-6.0\n",
      "  Attempting uninstall: kfp-pipeline-spec\n",
      "    Found existing installation: kfp-pipeline-spec 0.2.2\n",
      "    Uninstalling kfp-pipeline-spec-0.2.2:\n",
      "      Successfully uninstalled kfp-pipeline-spec-0.2.2\n",
      "  Attempting uninstall: click\n",
      "    Found existing installation: click 8.1.4\n",
      "    Uninstalling click-8.1.4:\n",
      "      Successfully uninstalled click-8.1.4\n",
      "  Attempting uninstall: cachetools\n",
      "    Found existing installation: cachetools 5.3.1\n",
      "    Uninstalling cachetools-5.3.1:\n",
      "      Successfully uninstalled cachetools-5.3.1\n",
      "  Running setup.py install for strip-hints ... \u001b[?25ldone\n",
      "\u001b[?25h  Attempting uninstall: kfp-server-api\n",
      "    Found existing installation: kfp-server-api 2.0.0\n",
      "    Uninstalling kfp-server-api-2.0.0:\n",
      "      Successfully uninstalled kfp-server-api-2.0.0\n",
      "  Running setup.py install for kfp-server-api ... \u001b[?25ldone\n",
      "\u001b[?25h  Attempting uninstall: google-auth\n",
      "    Found existing installation: google-auth 2.21.0\n",
      "    Uninstalling google-auth-2.21.0:\n",
      "      Successfully uninstalled google-auth-2.21.0\n",
      "  Running setup.py install for fire ... \u001b[?25ldone\n",
      "\u001b[?25h  Attempting uninstall: kubernetes\n",
      "    Found existing installation: kubernetes 26.1.0\n",
      "    Uninstalling kubernetes-26.1.0:\n",
      "      Successfully uninstalled kubernetes-26.1.0\n",
      "  Attempting uninstall: google-api-core\n",
      "    Found existing installation: google-api-core 2.11.1\n",
      "    Uninstalling google-api-core-2.11.1:\n",
      "      Successfully uninstalled google-api-core-2.11.1\n",
      "  Attempting uninstall: google-cloud-storage\n",
      "    Found existing installation: google-cloud-storage 2.10.0\n",
      "    Uninstalling google-cloud-storage-2.10.0:\n",
      "      Successfully uninstalled google-cloud-storage-2.10.0\n",
      "  Attempting uninstall: kfp\n",
      "    Found existing installation: kfp 2.0.1\n",
      "    Uninstalling kfp-2.0.1:\n",
      "      Successfully uninstalled kfp-2.0.1\n",
      "  Running setup.py install for kfp ... \u001b[?25ldone\n",
      "\u001b[?25hSuccessfully installed Deprecated-1.2.14 PyYAML-5.4.1 absl-py-0.11.0 attrs-23.1.0 cachetools-4.2.4 click-7.1.2 cloudpickle-1.6.0 fire-0.5.0 google-api-core-2.10.2 google-api-python-client-1.12.11 google-auth-1.35.0 google-auth-httplib2-0.1.0 google-cloud-storage-1.44.0 httplib2-0.22.0 jsonschema-3.2.0 kfp-1.8.0 kfp-pipeline-spec-0.1.16 kfp-server-api-1.8.5 kubernetes-12.0.1 pydantic-1.10.11 pyparsing-3.1.0 pyrsistent-0.19.3 strip-hints-0.1.10 termcolor-2.3.0 uritemplate-3.0.1 wheel-0.40.0 wrapt-1.15.0\n",
      "\u001b[33mWARNING: You are using pip version 22.0.4; however, version 23.1.2 is available.\n",
      "You should consider upgrading via the '/Users/sparshjhariya/Desktop/TECHY/Internship/Tasks/AIPlanet/aiplanet/bin/python3 -m pip install --upgrade pip' command.\u001b[0m\u001b[33m\n",
      "\u001b[0m"
     ]
    }
   ],
   "source": [
    "!pip install kfp==1.8"
   ]
  },
  {
   "cell_type": "code",
   "execution_count": 1,
   "metadata": {},
   "outputs": [],
   "source": [
    "import kfp\n",
    "import kfp.components as comp\n",
    "import requests\n",
    "import kfp.dsl as dsl"
   ]
  },
  {
   "cell_type": "code",
   "execution_count": 2,
   "metadata": {},
   "outputs": [
    {
     "name": "stdout",
     "output_type": "stream",
     "text": [
      "Name: kfp\n",
      "Version: 1.8.0\n",
      "Summary: KubeFlow Pipelines SDK\n",
      "Home-page: https://github.com/kubeflow/pipelines\n",
      "Author: The Kubeflow Authors\n",
      "Author-email: \n",
      "License: UNKNOWN\n",
      "Location: /Users/sparshjhariya/Desktop/TECHY/Internship/Tasks/AIPlanet/aiplanet/lib/python3.9/site-packages\n",
      "Requires: absl-py, click, cloudpickle, Deprecated, docstring-parser, fire, google-api-python-client, google-auth, google-cloud-storage, jsonschema, kfp-pipeline-spec, kfp-server-api, kubernetes, protobuf, pydantic, PyYAML, requests-toolbelt, strip-hints, tabulate\n",
      "Required-by: \n"
     ]
    }
   ],
   "source": [
    "!pip show kfp"
   ]
  },
  {
   "cell_type": "code",
   "execution_count": 4,
   "metadata": {},
   "outputs": [],
   "source": [
    "def prepare_data():\n",
    "    import pandas as pd\n",
    "    print(\"---- Inside prepare_data component ----\")\n",
    "    # Load dataset\n",
    "    df = pd.read_csv(\"https://raw.githubusercontent.com/TripathiAshutosh/dataset/main/iris.csv\")\n",
    "    df = df.dropna()\n",
    "    df.to_csv(f'data/final_df.csv', index=False)\n",
    "    print(\"\\n ---- data csv is saved to PV location /data/final_df.csv ----\")"
   ]
  },
  {
   "cell_type": "code",
   "execution_count": 5,
   "metadata": {},
   "outputs": [],
   "source": [
    "def train_test_split():\n",
    "    import pandas as pd\n",
    "    import numpy as np\n",
    "    from sklearn.model_selection import train_test_split\n",
    "    print(\"---- Inside train_test_split component ----\")\n",
    "    final_data = pd.read_csv(f'data/final_df.csv')\n",
    "    target_column = 'class'\n",
    "    X = final_data.loc[:, final_data.columns != target_column]\n",
    "    y = final_data.loc[:, final_data.columns == target_column]\n",
    "    \n",
    "    X_train, X_test, y_train, y_test = train_test_split(X, y, test_size=0.3,stratify = y, random_state=47)\n",
    "    \n",
    "    np.save(f'data/X_train.npy', X_train)\n",
    "    np.save(f'data/X_test.npy', X_test)\n",
    "    np.save(f'data/y_train.npy', y_train)\n",
    "    np.save(f'data/y_test.npy', y_test)\n",
    "    \n",
    "    print(\"\\n---- X_train ----\")\n",
    "    print(\"\\n\")\n",
    "    print(X_train)\n",
    "    \n",
    "    print(\"\\n---- X_test ----\")\n",
    "    print(\"\\n\")\n",
    "    print(X_test)\n",
    "    \n",
    "    print(\"\\n---- y_train ----\")\n",
    "    print(\"\\n\")\n",
    "    print(y_train)\n",
    "    \n",
    "    print(\"\\n---- y_test ----\")\n",
    "    print(\"\\n\")\n",
    "    print(y_test)"
   ]
  },
  {
   "cell_type": "code",
   "execution_count": 6,
   "metadata": {},
   "outputs": [],
   "source": [
    "def training_basic_classifier():\n",
    "    import pandas as pd\n",
    "    import numpy as np\n",
    "    from sklearn.linear_model import LogisticRegression\n",
    "    \n",
    "    print(\"---- Inside training_basic_classifier component ----\")\n",
    "    \n",
    "    X_train = np.load(f'data/X_train.npy',allow_pickle=True)\n",
    "    y_train = np.load(f'data/y_train.npy',allow_pickle=True)\n",
    "    \n",
    "    classifier = LogisticRegression(max_iter=500)\n",
    "    classifier.fit(X_train,y_train)\n",
    "    import pickle\n",
    "    with open(f'data/model.pkl', 'wb') as f:\n",
    "        pickle.dump(classifier, f)\n",
    "    \n",
    "    print(\"\\n logistic regression classifier is trained on iris data and saved to PV location /data/model.pkl ----\")"
   ]
  },
  {
   "cell_type": "code",
   "execution_count": 7,
   "metadata": {},
   "outputs": [],
   "source": [
    "def predict_on_test_data():\n",
    "    import pandas as pd\n",
    "    import numpy as np\n",
    "    import pickle\n",
    "    print(\"---- Inside predict_on_test_data component ----\")\n",
    "    with open(f'data/model.pkl','rb') as f:\n",
    "        logistic_reg_model = pickle.load(f)\n",
    "    X_test = np.load(f'data/X_test.npy',allow_pickle=True)\n",
    "    y_pred = logistic_reg_model.predict(X_test)\n",
    "    np.save(f'data/y_pred.npy', y_pred)\n",
    "    \n",
    "    print(\"\\n---- Predicted classes ----\")\n",
    "    print(\"\\n\")\n",
    "    print(y_pred)"
   ]
  },
  {
   "cell_type": "code",
   "execution_count": 8,
   "metadata": {},
   "outputs": [],
   "source": [
    "def predict_prob_on_test_data():\n",
    "    import pandas as pd\n",
    "    import numpy as np\n",
    "    import pickle\n",
    "    print(\"---- Inside predict_prob_on_test_data component ----\")\n",
    "    with open(f'data/model.pkl','rb') as f:\n",
    "        logistic_reg_model = pickle.load(f)\n",
    "    X_test = np.load(f'data/X_test.npy',allow_pickle=True)\n",
    "    y_pred_prob = logistic_reg_model.predict_proba(X_test)\n",
    "    np.save(f'data/y_pred_prob.npy', y_pred_prob)\n",
    "    \n",
    "    print(\"\\n---- Predicted Probabilities ----\")\n",
    "    print(\"\\n\")\n",
    "    print(y_pred_prob)"
   ]
  },
  {
   "cell_type": "code",
   "execution_count": 9,
   "metadata": {},
   "outputs": [],
   "source": [
    "def get_metrics():\n",
    "    import pandas as pd\n",
    "    import numpy as np\n",
    "    from sklearn.metrics import accuracy_score,precision_score,recall_score,log_loss\n",
    "    from sklearn import metrics\n",
    "    print(\"---- Inside get_metrics component ----\")\n",
    "    y_test = np.load(f'data/y_test.npy',allow_pickle=True)\n",
    "    y_pred = np.load(f'data/y_pred.npy',allow_pickle=True)\n",
    "    y_pred_prob = np.load(f'data/y_pred_prob.npy',allow_pickle=True)\n",
    "    acc = accuracy_score(y_test, y_pred)\n",
    "    prec = precision_score(y_test, y_pred,average='micro')\n",
    "    recall = recall_score(y_test, y_pred,average='micro')\n",
    "    entropy = log_loss(y_test, y_pred_prob)\n",
    "    \n",
    "    y_test = np.load(f'data/y_test.npy',allow_pickle=True)\n",
    "    y_pred = np.load(f'data/y_pred.npy',allow_pickle=True)\n",
    "    print(metrics.classification_report(y_test, y_pred))\n",
    "    \n",
    "    print(\"\\n Model Metrics:\", {'accuracy': round(acc, 2), 'precision': round(prec, 2), 'recall': round(recall, 2), 'entropy': round(entropy, 2)})"
   ]
  },
  {
   "cell_type": "code",
   "execution_count": 10,
   "metadata": {},
   "outputs": [],
   "source": [
    "create_step_prepare_data = comp.create_component_from_func(\n",
    "    func=prepare_data,\n",
    "    base_image='python:3.7',\n",
    "    packages_to_install=['pandas==1.2.4','numpy==1.21.0']\n",
    ")"
   ]
  },
  {
   "cell_type": "code",
   "execution_count": 11,
   "metadata": {},
   "outputs": [],
   "source": [
    "create_step_train_test_split = kfp.components.create_component_from_func(\n",
    "    func=train_test_split,\n",
    "    base_image='python:3.7',\n",
    "    packages_to_install=['pandas==1.2.4','numpy==1.21.0','scikit-learn==0.24.2']\n",
    ")"
   ]
  },
  {
   "cell_type": "code",
   "execution_count": 12,
   "metadata": {},
   "outputs": [],
   "source": [
    "create_step_training_basic_classifier = kfp.components.create_component_from_func(\n",
    "    func=training_basic_classifier,\n",
    "    base_image='python:3.7',\n",
    "    packages_to_install=['pandas==1.2.4','numpy==1.21.0','scikit-learn==0.24.2']\n",
    ")"
   ]
  },
  {
   "cell_type": "code",
   "execution_count": 13,
   "metadata": {},
   "outputs": [],
   "source": [
    "create_step_predict_on_test_data = kfp.components.create_component_from_func(\n",
    "    func=predict_on_test_data,\n",
    "    base_image='python:3.7',\n",
    "    packages_to_install=['pandas==1.2.4','numpy==1.21.0','scikit-learn==0.24.2']\n",
    ")"
   ]
  },
  {
   "cell_type": "code",
   "execution_count": 14,
   "metadata": {},
   "outputs": [],
   "source": [
    "create_step_predict_prob_on_test_data = kfp.components.create_component_from_func(\n",
    "    func=predict_prob_on_test_data,\n",
    "    base_image='python:3.7',\n",
    "    packages_to_install=['pandas==1.2.4','numpy==1.21.0','scikit-learn==0.24.2']\n",
    ")"
   ]
  },
  {
   "cell_type": "code",
   "execution_count": 15,
   "metadata": {},
   "outputs": [],
   "source": [
    "create_step_get_metrics = kfp.components.create_component_from_func(\n",
    "    func=get_metrics,\n",
    "    base_image='python:3.7',\n",
    "    packages_to_install=['pandas==1.2.4','numpy==1.21.0','scikit-learn==0.24.2']\n",
    ")"
   ]
  },
  {
   "cell_type": "code",
   "execution_count": 16,
   "metadata": {},
   "outputs": [],
   "source": [
    "\n",
    "# Define the pipeline\n",
    "@dsl.pipeline(\n",
    "   name='IRIS classifier Kubeflow Demo Pipeline',\n",
    "   description='A sample pipeline that performs IRIS classifier task'\n",
    ")\n",
    "# Define parameters to be fed into pipeline\n",
    "def iris_classifier_pipeline(data_path: str):\n",
    "    vop = dsl.VolumeOp(\n",
    "    name=\"t-vol\",\n",
    "    resource_name=\"t-vol\", \n",
    "    size=\"1Gi\", \n",
    "    modes=dsl.VOLUME_MODE_RWO)\n",
    "    \n",
    "    prepare_data_task = create_step_prepare_data().add_pvolumes({data_path: vop.volume})\n",
    "    train_test_split = create_step_train_test_split().add_pvolumes({data_path: vop.volume}).after(prepare_data_task)\n",
    "    classifier_training = create_step_training_basic_classifier().add_pvolumes({data_path: vop.volume}).after(train_test_split)\n",
    "    log_predicted_class = create_step_predict_on_test_data().add_pvolumes({data_path: vop.volume}).after(classifier_training)\n",
    "    log_predicted_probabilities = create_step_predict_prob_on_test_data().add_pvolumes({data_path: vop.volume}).after(log_predicted_class)\n",
    "    log_metrics_task = create_step_get_metrics().add_pvolumes({data_path: vop.volume}).after(log_predicted_probabilities)\n",
    "\n",
    "    \n",
    "    prepare_data_task.execution_options.caching_strategy.max_cache_staleness = \"P0D\"\n",
    "    train_test_split.execution_options.caching_strategy.max_cache_staleness = \"P0D\"\n",
    "    classifier_training.execution_options.caching_strategy.max_cache_staleness = \"P0D\"\n",
    "    log_predicted_class.execution_options.caching_strategy.max_cache_staleness = \"P0D\"\n",
    "    log_predicted_probabilities.execution_options.caching_strategy.max_cache_staleness = \"P0D\"\n",
    "    log_metrics_task.execution_options.caching_strategy.max_cache_staleness = \"P0D\"\n",
    "    \n",
    "    \n",
    "    "
   ]
  },
  {
   "cell_type": "code",
   "execution_count": 17,
   "metadata": {},
   "outputs": [],
   "source": [
    "kfp.compiler.Compiler().compile(\n",
    "    pipeline_func=iris_classifier_pipeline,\n",
    "    package_path='IRIS_Classifier_pipeline1.yaml')"
   ]
  },
  {
   "cell_type": "code",
   "execution_count": 18,
   "metadata": {},
   "outputs": [],
   "source": [
    "client = kfp.Client()"
   ]
  },
  {
   "cell_type": "code",
   "execution_count": 19,
   "metadata": {},
   "outputs": [
    {
     "name": "stdout",
     "output_type": "stream",
     "text": [
      "2023-07-10\n"
     ]
    },
    {
     "data": {
      "text/html": [
       "<a href=\"/pipeline/#/experiments/details/3655fabd-f5cd-48bd-a5a1-e87aad378b08\" target=\"_blank\" >Experiment details</a>."
      ],
      "text/plain": [
       "<IPython.core.display.HTML object>"
      ]
     },
     "metadata": {},
     "output_type": "display_data"
    },
    {
     "data": {
      "text/html": [
       "<a href=\"/pipeline/#/runs/details/5c24033b-ee65-419b-8e92-3c795951a562\" target=\"_blank\" >Run details</a>."
      ],
      "text/plain": [
       "<IPython.core.display.HTML object>"
      ]
     },
     "metadata": {},
     "output_type": "display_data"
    }
   ],
   "source": [
    "DATA_PATH = '/data'\n",
    "\n",
    "import datetime\n",
    "print(datetime.datetime.now().date())\n",
    "\n",
    "\n",
    "pipeline_func = iris_classifier_pipeline\n",
    "experiment_name = 'iris_classifier_exp' +\"_\"+ str(datetime.datetime.now().date())\n",
    "run_name = pipeline_func.__name__ + ' run'\n",
    "namespace = \"kubeflow\"\n",
    "\n",
    "arguments = {\"data_path\":DATA_PATH}\n",
    "\n",
    "kfp.compiler.Compiler().compile(pipeline_func,  \n",
    "  '{}.zip'.format(experiment_name))\n",
    "\n",
    "run_result = client.create_run_from_pipeline_func(pipeline_func, \n",
    "                                                  experiment_name=experiment_name, \n",
    "                                                  run_name=run_name, \n",
    "                                                  arguments=arguments)\n",
    "\n",
    "# from kubernetes import client as k8s_client\n",
    "# pipeline_conf = kfp.dsl.PipelineConf()\n",
    "# pipeline_conf.set_image_pull_secrets([k8s_client.V1ObjectReference(namespace='kubeflow', \n",
    "#                                                                                  name=\"secret\")])\n",
    "# pipeline_conf.set_image_pull_policy(\"IfNotPresent\")\n",
    "    \n",
    "# Compile pipeline to generate compressed YAML definition of the pipeline.\n",
    "# kfp.compiler.Compiler().compile(pipeline_func,  \n",
    "#   '{}.zip'.format(experiment_name))\n",
    "\n",
    "# Submit pipeline directly from pipeline function\n",
    "# run_result = client.create_run_from_pipeline_func(pipeline_func, \n",
    "#                                                   experiment_name=experiment_name, \n",
    "#                                                   run_name=run_name, \n",
    "#                                                   arguments=arguments,\n",
    "#                                                   namespace = namespace,\n",
    "#                                                   pipeline_conf=pipeline_conf)\n",
    "\n",
    "\n",
    "\n",
    "\n",
    "\n"
   ]
  },
  {
   "cell_type": "code",
   "execution_count": null,
   "metadata": {},
   "outputs": [],
   "source": []
  }
 ],
 "metadata": {
  "kernelspec": {
   "display_name": "aiplanet",
   "language": "python",
   "name": "python3"
  },
  "language_info": {
   "codemirror_mode": {
    "name": "ipython",
    "version": 3
   },
   "file_extension": ".py",
   "mimetype": "text/x-python",
   "name": "python",
   "nbconvert_exporter": "python",
   "pygments_lexer": "ipython3",
   "version": "3.9.12"
  },
  "orig_nbformat": 4
 },
 "nbformat": 4,
 "nbformat_minor": 2
}
